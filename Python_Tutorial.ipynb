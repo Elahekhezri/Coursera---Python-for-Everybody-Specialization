{
  "nbformat": 4,
  "nbformat_minor": 0,
  "metadata": {
    "colab": {
      "provenance": [],
      "authorship_tag": "ABX9TyOJTxBPMsPmoEBqOYmr+QWk",
      "include_colab_link": true
    },
    "kernelspec": {
      "name": "python3",
      "display_name": "Python 3"
    },
    "language_info": {
      "name": "python"
    }
  },
  "cells": [
    {
      "cell_type": "markdown",
      "metadata": {
        "id": "view-in-github",
        "colab_type": "text"
      },
      "source": [
        "<a href=\"https://colab.research.google.com/github/Elahekhezri/Coursera---Python-for-Everybody-Specialization/blob/main/Python_Tutorial.ipynb\" target=\"_parent\"><img src=\"https://colab.research.google.com/assets/colab-badge.svg\" alt=\"Open In Colab\"/></a>"
      ]
    },
    {
      "cell_type": "markdown",
      "source": [
        "# Basics"
      ],
      "metadata": {
        "id": "l9Djwjyl8Y-5"
      }
    },
    {
      "cell_type": "markdown",
      "source": [
        "To find the class of a variable, you can use `type()`"
      ],
      "metadata": {
        "id": "Hjg796Rb8x4J"
      }
    },
    {
      "cell_type": "code",
      "source": [
        "x = 3\n",
        "x += 1\n",
        "type(x)"
      ],
      "metadata": {
        "colab": {
          "base_uri": "https://localhost:8080/"
        },
        "id": "VB1swZbV8aja",
        "outputId": "9b7a23cf-5126-486e-d1af-48ee42b2997b"
      },
      "execution_count": 11,
      "outputs": [
        {
          "output_type": "execute_result",
          "data": {
            "text/plain": [
              "int"
            ]
          },
          "metadata": {},
          "execution_count": 11
        }
      ]
    },
    {
      "cell_type": "markdown",
      "source": [
        "Booleans: `True`, `False`, `and` , `or` ,  `not` , `!=`\n",
        "باقی مانده تقسیم: `%`"
      ],
      "metadata": {
        "id": "480vAQhwMm2F"
      }
    },
    {
      "cell_type": "markdown",
      "source": [
        "## Strings:\n",
        "> for string concentration, all elements should be strings type.\n",
        "> for string formatting, non-string elements can also be used."
      ],
      "metadata": {
        "id": "QJgvXBJXOLWu"
      }
    },
    {
      "cell_type": "code",
      "source": [
        "x = \"hello\"\n",
        "length = len(x)\n",
        "#string concentration\n",
        "hw = x + \" \" + \"world\" + str(length)\n",
        "print(hw)\n",
        "\n",
        "# string formatting\n",
        "hw12 = \"{} {} {}\".format(x, length, 12)\n",
        "print(hw12)"
      ],
      "metadata": {
        "colab": {
          "base_uri": "https://localhost:8080/"
        },
        "id": "hvJlEo6BNQyV",
        "outputId": "76f269f9-1f7d-402f-b4a1-ee5a71b77df0"
      },
      "execution_count": 13,
      "outputs": [
        {
          "output_type": "stream",
          "name": "stdout",
          "text": [
            "hello world5\n",
            "hello 5 12\n"
          ]
        }
      ]
    },
    {
      "cell_type": "markdown",
      "source": [
        "Some string methods:"
      ],
      "metadata": {
        "id": "gNKBrNrpQATK"
      }
    },
    {
      "cell_type": "code",
      "source": [
        "s = \"my string\"\n",
        "print(s.capitalize())\n",
        "print(s.upper())\n",
        "print(s.rjust(7)) #right-justify the string, padding with 7 spaces\n",
        "print(s.center(7))\n",
        "print(s.replace(\"my\", \"your\"))\n",
        "print(\" world \".strip()) #deleting white space"
      ],
      "metadata": {
        "colab": {
          "base_uri": "https://localhost:8080/"
        },
        "id": "BD-HwgNMMiUU",
        "outputId": "e755c65c-01e4-4c8f-888c-28ef3d246188"
      },
      "execution_count": 15,
      "outputs": [
        {
          "output_type": "stream",
          "name": "stdout",
          "text": [
            "My string\n",
            "MY STRING\n",
            "my string\n",
            "my string\n",
            "your string\n",
            "world\n"
          ]
        }
      ]
    },
    {
      "cell_type": "markdown",
      "source": [
        "## Lists\n",
        "\n",
        "equal to array. resizeable. accepts elements with different types.\n",
        "\n",
        "**Indexing starts from zero.**\n",
        "**negative indices count from the end of the list. so `[-1]` returns the last object of the list.\n",
        "\n",
        "To create a list: `mylist = [1, \"elaa\", 3]`\n",
        "Indexing: `mylist[1]`\n",
        "\n",
        "Some methods for lists:"
      ],
      "metadata": {
        "id": "1VobG41JQ_Hv"
      }
    },
    {
      "cell_type": "code",
      "source": [
        "mylist = [1, \"elaa\", 13]\n",
        "print(mylist)\n",
        "mylist[1] = \"elahe\"\n",
        "print(mylist)\n",
        "mylist.append(\"computational social scientist\") #append to the end\n",
        "print(mylist)\n",
        "poplist = mylist.pop() #remove the last element, and return it\n",
        "print(poplist, mylist)\n"
      ],
      "metadata": {
        "colab": {
          "base_uri": "https://localhost:8080/"
        },
        "id": "zOf3pYSDSAYn",
        "outputId": "469f9ca1-4c26-4a4c-f357-417c78bc310a"
      },
      "execution_count": 20,
      "outputs": [
        {
          "output_type": "stream",
          "name": "stdout",
          "text": [
            "[1, 'elaa', 13]\n",
            "[1, 'elahe', 13]\n",
            "[1, 'elahe', 13, 'computational social scientist']\n",
            "computational social scientist [1, 'elahe', 13]\n"
          ]
        }
      ]
    },
    {
      "cell_type": "markdown",
      "source": [
        "**Slicing lists**"
      ],
      "metadata": {
        "id": "PgDWn2NUTQ7o"
      }
    },
    {
      "cell_type": "code",
      "source": [
        "nums = list(range(5)) #starts from 0 so doesn't include 5\n",
        "print(nums[2:4]) #exclusive so doesn't return nums[4]\n",
        "print(nums[2:]) #inlusive of nums[2]\n",
        "print(nums[:2]) #exclusive so doesn't return nums[2]\n",
        "print(nums[:-1]) #slicing from the end\n",
        "print(nums[:]) # a slice of the wole list"
      ],
      "metadata": {
        "colab": {
          "base_uri": "https://localhost:8080/"
        },
        "id": "xEBT6Oq_TXXg",
        "outputId": "08f2c909-1d8b-4670-8d11-7c375f15a346"
      },
      "execution_count": 21,
      "outputs": [
        {
          "output_type": "stream",
          "name": "stdout",
          "text": [
            "[2, 3]\n",
            "[2, 3, 4]\n",
            "[0, 1]\n",
            "[0, 1, 2, 3]\n",
            "[0, 1, 2, 3, 4]\n"
          ]
        }
      ]
    },
    {
      "cell_type": "markdown",
      "source": [
        "### Loops\n",
        "\n",
        "looping over the elements of a list:"
      ],
      "metadata": {
        "id": "KMeFNuVJU8OF"
      }
    },
    {
      "cell_type": "code",
      "source": [
        "animals = ['cat', 'dog', 'monkey']\n",
        "for animal in animals:\n",
        "    print(animal)\n",
        "\n",
        " #returns index:\n",
        "\n",
        "for idx, animal in enumerate(animals):\n",
        "    print('#{}: {}'.format(idx + 1, animal))"
      ],
      "metadata": {
        "colab": {
          "base_uri": "https://localhost:8080/"
        },
        "id": "7GtBCsxOUDyV",
        "outputId": "72f12d63-b5a7-4c4c-d78d-70d5a9702e89"
      },
      "execution_count": 31,
      "outputs": [
        {
          "output_type": "stream",
          "name": "stdout",
          "text": [
            "cat\n",
            "dog\n",
            "monkey\n",
            "#1: cat\n",
            "#2: dog\n",
            "#3: monkey\n"
          ]
        }
      ]
    },
    {
      "cell_type": "markdown",
      "source": [
        "### List comprehensions\n",
        "\n",
        "They can replace loops in some instances in order to make them shorter. List comprehensions can also contain conditions."
      ],
      "metadata": {
        "id": "3mQicLAcjC6w"
      }
    },
    {
      "cell_type": "code",
      "source": [
        "#loop\n",
        "\n",
        "nums = [0, 1, 2, 3]\n",
        "square = []\n",
        "\n",
        "for x in nums:\n",
        "  square.append(x ** 2)\n",
        "print(square)\n",
        "\n",
        "# list comprehension version\n",
        "squares = [x ** 2 for x in nums]\n",
        "print(squares)\n",
        "\n",
        "# List comprehension with condition\n",
        "\n",
        "even_squares = [x ** 2 for x in nums if x % 2 == 0]\n",
        "print(even_squares)"
      ],
      "metadata": {
        "colab": {
          "base_uri": "https://localhost:8080/"
        },
        "id": "K85CeF0_jCD7",
        "outputId": "9890121e-45fe-4856-d859-cb2144436afc"
      },
      "execution_count": 36,
      "outputs": [
        {
          "output_type": "stream",
          "name": "stdout",
          "text": [
            "[0, 1, 4, 9]\n",
            "[0, 1, 4, 9]\n",
            "[0, 4]\n"
          ]
        }
      ]
    },
    {
      "cell_type": "markdown",
      "source": [
        "## Dictionaries\n",
        "\n",
        "(key,value) pairs. within `{}`."
      ],
      "metadata": {
        "id": "J8dkN4yxlBNy"
      }
    },
    {
      "cell_type": "code",
      "source": [
        "sampled = {'love': 'pain', 'work': 'content'}\n",
        "print(sampled)\n",
        "print(sampled['love']) #retuns the value of a key\n",
        "print('pain' in sampled) #checks if key is in dictionary. doesn't check for value so returns false if value\n",
        "print('love' in sampled)\n",
        "\n",
        "sampled['coffee'] = 'happiness' #adds a key and value to dictionary\n",
        "print(sampled)\n",
        "\n",
        "#delete a key\n",
        "del sampled['work']"
      ],
      "metadata": {
        "colab": {
          "base_uri": "https://localhost:8080/"
        },
        "id": "g6qymNy1jptX",
        "outputId": "ad222b77-1e93-4b59-f150-01c3e00e3d7a"
      },
      "execution_count": 41,
      "outputs": [
        {
          "output_type": "stream",
          "name": "stdout",
          "text": [
            "{'love': 'pain', 'work': 'content'}\n",
            "pain\n",
            "False\n",
            "True\n",
            "{'love': 'pain', 'work': 'content', 'coffee': 'happiness'}\n"
          ]
        }
      ]
    },
    {
      "cell_type": "markdown",
      "source": [
        "**Iterating over the keys in a dictionary:**"
      ],
      "metadata": {
        "id": "_3SsxAfkm5PG"
      }
    },
    {
      "cell_type": "code",
      "source": [],
      "metadata": {
        "id": "95zHuV_Vm3dN"
      },
      "execution_count": null,
      "outputs": []
    }
  ]
}